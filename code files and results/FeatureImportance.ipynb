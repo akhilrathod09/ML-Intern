{
 "cells": [
  {
   "cell_type": "code",
   "execution_count": 5,
   "metadata": {
    "colab": {
     "base_uri": "https://localhost:8080/"
    },
    "executionInfo": {
     "elapsed": 11457,
     "status": "ok",
     "timestamp": 1720680825899,
     "user": {
      "displayName": "AKHIL SONU",
      "userId": "17939120363624486299"
     },
     "user_tz": -330
    },
    "id": "M1lXjwRcmKsC",
    "outputId": "347be0c3-8a65-4a58-b3dc-a12a22d4e2fa"
   },
   "outputs": [
    {
     "name": "stdout",
     "output_type": "stream",
     "text": [
      "Defaulting to user installation because normal site-packages is not writeable\n",
      "Requirement already satisfied: rfpimp in c:\\users\\91897\\appdata\\roaming\\python\\python312\\site-packages (1.3.7)\n",
      "Requirement already satisfied: numpy in c:\\users\\91897\\appdata\\roaming\\python\\python312\\site-packages (from rfpimp) (1.26.4)\n",
      "Requirement already satisfied: pandas in c:\\users\\91897\\appdata\\roaming\\python\\python312\\site-packages (from rfpimp) (2.2.2)\n",
      "Requirement already satisfied: scikit-learn in c:\\users\\91897\\appdata\\roaming\\python\\python312\\site-packages (from rfpimp) (1.5.1)\n",
      "Requirement already satisfied: matplotlib in c:\\users\\91897\\appdata\\roaming\\python\\python312\\site-packages (from rfpimp) (3.9.0)\n",
      "Requirement already satisfied: contourpy>=1.0.1 in c:\\users\\91897\\appdata\\roaming\\python\\python312\\site-packages (from matplotlib->rfpimp) (1.2.1)\n",
      "Requirement already satisfied: cycler>=0.10 in c:\\users\\91897\\appdata\\roaming\\python\\python312\\site-packages (from matplotlib->rfpimp) (0.12.1)\n",
      "Requirement already satisfied: fonttools>=4.22.0 in c:\\users\\91897\\appdata\\roaming\\python\\python312\\site-packages (from matplotlib->rfpimp) (4.53.0)\n",
      "Requirement already satisfied: kiwisolver>=1.3.1 in c:\\users\\91897\\appdata\\roaming\\python\\python312\\site-packages (from matplotlib->rfpimp) (1.4.5)\n",
      "Requirement already satisfied: packaging>=20.0 in c:\\users\\91897\\appdata\\roaming\\python\\python312\\site-packages (from matplotlib->rfpimp) (24.1)\n",
      "Requirement already satisfied: pillow>=8 in c:\\users\\91897\\appdata\\roaming\\python\\python312\\site-packages (from matplotlib->rfpimp) (10.4.0)\n",
      "Requirement already satisfied: pyparsing>=2.3.1 in c:\\users\\91897\\appdata\\roaming\\python\\python312\\site-packages (from matplotlib->rfpimp) (3.1.2)\n",
      "Requirement already satisfied: python-dateutil>=2.7 in c:\\users\\91897\\appdata\\roaming\\python\\python312\\site-packages (from matplotlib->rfpimp) (2.9.0.post0)\n",
      "Requirement already satisfied: pytz>=2020.1 in c:\\users\\91897\\appdata\\roaming\\python\\python312\\site-packages (from pandas->rfpimp) (2024.1)\n",
      "Requirement already satisfied: tzdata>=2022.7 in c:\\users\\91897\\appdata\\roaming\\python\\python312\\site-packages (from pandas->rfpimp) (2024.1)\n",
      "Requirement already satisfied: scipy>=1.6.0 in c:\\users\\91897\\appdata\\roaming\\python\\python312\\site-packages (from scikit-learn->rfpimp) (1.14.0)\n",
      "Requirement already satisfied: joblib>=1.2.0 in c:\\users\\91897\\appdata\\roaming\\python\\python312\\site-packages (from scikit-learn->rfpimp) (1.4.2)\n",
      "Requirement already satisfied: threadpoolctl>=3.1.0 in c:\\users\\91897\\appdata\\roaming\\python\\python312\\site-packages (from scikit-learn->rfpimp) (3.5.0)\n",
      "Requirement already satisfied: six>=1.5 in c:\\users\\91897\\appdata\\roaming\\python\\python312\\site-packages (from python-dateutil>=2.7->matplotlib->rfpimp) (1.16.0)\n"
     ]
    },
    {
     "name": "stderr",
     "output_type": "stream",
     "text": [
      "\n",
      "[notice] A new release of pip is available: 24.2 -> 24.3.1\n",
      "[notice] To update, run: python.exe -m pip install --upgrade pip\n"
     ]
    }
   ],
   "source": [
    "!pip install rfpimp\n",
    "import rfpimp\n",
    "import matplotlib.pyplot as plt\n",
    "import pandas as pd\n",
    "import numpy as np\n",
    "from sklearn.ensemble import RandomForestRegressor\n",
    "from sklearn.model_selection import train_test_split\n",
    "\n"
   ]
  },
  {
   "cell_type": "markdown",
   "metadata": {
    "id": "QOgjfL6roSFr"
   },
   "source": [
    "##Importing Dataset and Splitting"
   ]
  },
  {
   "cell_type": "code",
   "execution_count": 6,
   "metadata": {
    "executionInfo": {
     "elapsed": 509,
     "status": "ok",
     "timestamp": 1720680852535,
     "user": {
      "displayName": "AKHIL SONU",
      "userId": "17939120363624486299"
     },
     "user_tz": -330
    },
    "id": "y10Vxik8oAca"
   },
   "outputs": [],
   "source": [
    "data = pd.read_csv('drag_coef.csv')\n",
    "features = ['phi','Re','Cd,meas']\n",
    "data_train, data_test = train_test_split(data, test_size=0.30)\n",
    "data_train = data_train[features]\n",
    "data_test = data_test[features]\n",
    "\n",
    "X_train, y_train = data_train.drop('Cd,meas',axis=1), data_train['Cd,meas']\n",
    "X_test, y_test = data_test.drop('Cd,meas',axis=1), data_test['Cd,meas']"
   ]
  },
  {
   "cell_type": "markdown",
   "metadata": {
    "id": "XlsJai_roWyG"
   },
   "source": [
    "##Training Using Random Forest Regressor"
   ]
  },
  {
   "cell_type": "code",
   "execution_count": 7,
   "metadata": {
    "executionInfo": {
     "elapsed": 1046,
     "status": "ok",
     "timestamp": 1720680857203,
     "user": {
      "displayName": "AKHIL SONU",
      "userId": "17939120363624486299"
     },
     "user_tz": -330
    },
    "id": "hxxIxLFboeNZ"
   },
   "outputs": [],
   "source": [
    "randomforest = RandomForestRegressor(n_estimators=200, n_jobs=-1)\n",
    "randomforest.fit(X_train, y_train)\n",
    "\n",
    "imp = rfpimp.importances(randomforest, X_test, y_test)"
   ]
  },
  {
   "cell_type": "markdown",
   "metadata": {
    "id": "iM8nw128oz3y"
   },
   "source": [
    "##Histogram Plotting of Feature Importance"
   ]
  },
  {
   "cell_type": "code",
   "execution_count": 8,
   "metadata": {
    "colab": {
     "base_uri": "https://localhost:8080/",
     "height": 307
    },
    "executionInfo": {
     "elapsed": 544,
     "status": "ok",
     "timestamp": 1720680860604,
     "user": {
      "displayName": "AKHIL SONU",
      "userId": "17939120363624486299"
     },
     "user_tz": -330
    },
    "id": "duyWotponYX_",
    "outputId": "ad4b5579-2ba6-45a7-b75d-f4b7c3366431"
   },
   "outputs": [
    {
     "data": {
      "image/png": "[encoded data removed]",
      "text/plain": [
       "<Figure size 600x300 with 1 Axes>"
      ]
     },
     "metadata": {},
     "output_type": "display_data"
    }
   ],
   "source": [
    "fig, ax = plt.subplots(figsize=(6, 3))\n",
    "ax.barh(imp.index, imp['Importance'], height=0.8, facecolor='grey', alpha=0.8, edgecolor='k')\n",
    "ax.set_xlabel('Importance score')\n",
    "ax.set_title('Feature importance score')\n",
    "ax.set_yticks(imp.index)\n",
    "ax.set_yticklabels(imp.index)\n",
    "plt.gca().invert_yaxis()\n",
    "\n",
    "fig.tight_layout()"
   ]
  }
 ],
 "metadata": {
  "colab": {
   "authorship_tag": "ABX9TyNLCuyu3jL3CyqHG4SHmY0d",
   "provenance": []
  },
  "kernelspec": {
   "display_name": "Python 3",
   "name": "python3"
  },
  "language_info": {
   "codemirror_mode": {
    "name": "ipython",
    "version": 3
   },
   "file_extension": ".py",
   "mimetype": "text/x-python",
   "name": "python",
   "nbconvert_exporter": "python",
   "pygments_lexer": "ipython3",
   "version": "3.12.4"
  }
 },
 "nbformat": 4,
 "nbformat_minor": 0
}
